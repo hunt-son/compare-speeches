{
 "cells": [
  {
   "cell_type": "code",
   "execution_count": 1,
   "metadata": {
    "collapsed": true
   },
   "outputs": [],
   "source": [
    "import os\n",
    "import re\n",
    "import nltk\n",
    "from nltk.corpus import stopwords\n",
    "from sklearn.feature_extraction.text import CountVectorizer\n",
    "import numpy as np\n",
    "from sklearn import svm\n",
    "import pandas as pd\n",
    "from pandas import DataFrame, Series\n",
    "import matplotlib.pyplot as plt\n",
    "from sklearn.metrics import confusion_matrix\n",
    "\n",
    "ROOT_DIR = os.getcwd()\n",
    "DATA_DIR = os.path.join(ROOT_DIR, 'Raw_debates')\n",
    "RESULT_DIR = os.path.join(ROOT_DIR, 'candidate_lines')\n",
    "\n",
    "candidates = {'CLINTON', 'SANDERS', 'TRUMP', 'RUBIO', 'CRUZ'}\n",
    "cand_list = sorted(candidates)\n",
    "\n",
    "stops = set(stopwords.words(\"english\"))\n",
    "\n",
    "%matplotlib inline"
   ]
  },
  {
   "cell_type": "code",
   "execution_count": 2,
   "metadata": {
    "collapsed": true
   },
   "outputs": [],
   "source": [
    "word_dic = {'action': 'act',\n",
    "               'agreement': 'agree',\n",
    "               'americans': 'american',\n",
    "               'asked': 'ask',\n",
    "               'asking': 'ask',\n",
    "               'going': 'go',\n",
    "               'states': 'state',\n",
    "               'working': 'work',\n",
    "               'millions': 'million',\n",
    "               'bringing': 'bring',\n",
    "               'businesses': 'business',\n",
    "               'candidates': 'candidate',\n",
    "               'children': 'child',\n",
    "               'comes': 'come',\n",
    "               'coming': 'come',\n",
    "               'companies': 'company',\n",
    "               'countries': 'country',\n",
    "               'deals': 'deal',\n",
    "               'economic': 'economy',\n",
    "               'families': 'family',\n",
    "               'fighting': 'fight',\n",
    "               'gets': 'get',\n",
    "               'getting': 'get',\n",
    "               'goes': 'go',\n",
    "               'got': 'get',\n",
    "               'groups': 'group',\n",
    "               'guns': 'gun',\n",
    "               'happened': 'happen',\n",
    "               'happening': 'happen',\n",
    "               'helped': 'help',\n",
    "               'issues': 'issue',\n",
    "               'knows': 'know',\n",
    "               'laws': 'law',\n",
    "               'lives': 'live',\n",
    "               'living': 'live',\n",
    "               'making': 'make',\n",
    "               'needs': 'need',\n",
    "               'passed': 'pass',\n",
    "               'problems': 'problem',\n",
    "               'putting': 'put',\n",
    "               'really': 'real',\n",
    "               'republicans': 'republican',\n",
    "               'running': 'run',\n",
    "               'saying': 'say',\n",
    "               'said': 'say',\n",
    "               'seeing': 'see',\n",
    "               'seen': 'see',\n",
    "               'started': 'start',\n",
    "               'supported': 'support',\n",
    "               'taking': 'take',\n",
    "               'talked': 'talk',\n",
    "               'talking': 'talk',\n",
    "               'terrorists': 'terrorist',\n",
    "               'terrorism': 'terrorist',\n",
    "               'things': 'thing',\n",
    "               'trying': 'try',\n",
    "               'used': 'use',\n",
    "               'using': 'use',\n",
    "               'voted': 'vote',\n",
    "               'wages': 'wage',\n",
    "               'wanted': 'want',\n",
    "               'wants': 'want',\n",
    "               'building': 'build',\n",
    "               'called': 'call',\n",
    "               'came': 'come',\n",
    "               'communities': 'community',\n",
    "               'costs': 'cost',\n",
    "               'deffence': 'deffend',\n",
    "               'difference': 'different',\n",
    "               'drugs': 'drug',\n",
    "               'gave': 'give',\n",
    "               'given': 'give',\n",
    "               'gone': 'go',\n",
    "               'higher': 'high',\n",
    "               'highest': 'high',\n",
    "               'interests': 'interest',\n",
    "               'jobs': 'job',\n",
    "               'longer': 'long',\n",
    "               'looked': 'look',\n",
    "               'looking': 'look',\n",
    "               'lost': 'lose',\n",
    "               'made': 'make',\n",
    "               'means': 'mean',\n",
    "               'paying': 'pay',\n",
    "               'planned': 'plan',\n",
    "               'programs': 'program',\n",
    "               'raising': 'raise',\n",
    "               'reasons': 'reason',\n",
    "               'ringing': 'ring',\n",
    "               'says': 'say',\n",
    "               'saw': 'see',\n",
    "               'wealthy': 'wealth',\n",
    "               'worked': 'work',\n",
    "               'allowed': 'allow',\n",
    "               'built': 'build',\n",
    "               'years': 'year'}"
   ]
  },
  {
   "cell_type": "code",
   "execution_count": 3,
   "metadata": {
    "collapsed": false
   },
   "outputs": [],
   "source": [
    "block_dic = {}\n",
    "\n",
    "def get_raw_text(cand_name):\n",
    "    file_name = '{0}.txt'.format(cand_name)\n",
    "    file_path = os.path.join(RESULT_DIR, file_name)\n",
    "    with open(file_path, 'rb') as f:\n",
    "        return f.read()\n",
    "\n",
    "def raw_to_blocks(cand_name, raw_text, delimiter='\\r\\n\\r\\n', min_len=200):\n",
    "    # Delete candidate's name\n",
    "    names_removed = raw_text.replace(cand_name + ':', '')\n",
    "    \n",
    "    # Split the text into paragraphs\n",
    "    splitted = names_removed.split(delimiter)\n",
    "\n",
    "    # Gather only long enough paragraphs\n",
    "    rets = [paragraph for paragraph in splitted if len(paragraph) > min_len]\n",
    "    return rets\n",
    "\n",
    "# Replace words that are virtually same into one word. \n",
    "def hard_code_process(text):\n",
    "    separate_word = ' {0} '\n",
    "    text = separate_word.format(text)\n",
    "    \n",
    "    for key, value in word_dic.iteritems():\n",
    "        key = separate_word.format(key)\n",
    "        value = separate_word.format(value)\n",
    "        text = text.replace(key, value)\n",
    "    return text\n",
    "\n",
    "def process_paragraph(paragraph):\n",
    "    # Remove non-letters        \n",
    "    letters_only = re.sub(\"[^a-zA-Z]\", \" \", paragraph) \n",
    "    \n",
    "    # Convert to lower case, split into individual words\n",
    "    words = letters_only.lower().split()\n",
    "    \n",
    "    # Remove stop words\n",
    "    meaningful_words = [w for w in words if not w in stops]\n",
    "    \n",
    "    rets = ' '.join(meaningful_words)\n",
    "    return hard_code_process(rets)\n",
    "\n",
    "def get_processed_lines(cand_name, delimiter='\\r\\n\\r\\n', min_len=200):\n",
    "    raw_text = get_raw_text(cand_name)\n",
    "    blocks = raw_to_blocks(cand_name, raw_text, \n",
    "                           delimiter=delimiter, min_len=min_len)\n",
    "    ret = map(process_paragraph, blocks)\n",
    "    for k, v in zip(ret, blocks):\n",
    "        block_dic[k] = v\n",
    "    return ret\n",
    "\n",
    "def get_vectorizer(cand_lines, max_features=1000):\n",
    "    # Initialize the \"CountVectorizer\" object, which is scikit-learn's\n",
    "    # bag of words tool.  \n",
    "    vectorizer = CountVectorizer(analyzer = \"word\",   \\\n",
    "                                 tokenizer = None,    \\\n",
    "                                 preprocessor = None, \\\n",
    "                                 stop_words = None,   \\\n",
    "                                 max_features = max_features)\n",
    "    \n",
    "    concatenated = []\n",
    "    for cand_name, lines in cand_lines.iteritems():\n",
    "        concatenated += lines\n",
    "    \n",
    "    vectorizer.fit(concatenated)\n",
    "    return vectorizer"
   ]
  },
  {
   "cell_type": "code",
   "execution_count": 4,
   "metadata": {
    "collapsed": false
   },
   "outputs": [],
   "source": [
    "# Split training data and test data\n",
    "def test_train_split(cand_lines, test_ratio=0.25):\n",
    "    cands = cand_lines.keys()\n",
    "    test_data = dict.fromkeys(cands)\n",
    "    train_data = dict.fromkeys(cands)\n",
    "    for c in cands:\n",
    "        lines = cand_lines[c]\n",
    "        l = len(lines)\n",
    "        test_len = int(l * test_ratio)\n",
    "        test_indices = set(np.random.choice(l, test_len, replace=False))\n",
    "        train_indices = set(range(l)) - test_indices\n",
    "        test_data[c] = list(np.take(lines, list(test_indices)))\n",
    "        train_data[c] = list(np.take(lines, list(train_indices)))\n",
    "    return test_data, train_data\n",
    "\n",
    "def normalize(data):\n",
    "    rets = dict()\n",
    "    for c in data:\n",
    "        d = data[c].astype(float)\n",
    "        _sum = d.sum(axis=1)\n",
    "        _sum[_sum==0] = 1\n",
    "        rets[c] = (d.T / _sum).T\n",
    "    return rets\n",
    "\n",
    "def pie_chart(vector, vocab):\n",
    "    vocab = np.array(vocab)\n",
    "    cond = vector > 0\n",
    "    words = vocab[cond]\n",
    "    sizes = vector[cond]\n",
    "    plt.pie(sizes, labels=words)"
   ]
  },
  {
   "cell_type": "code",
   "execution_count": 5,
   "metadata": {
    "collapsed": false
   },
   "outputs": [],
   "source": [
    "# Examples\n",
    "cand_lines = {c: get_processed_lines(c, min_len=400) for c in candidates}\n",
    "vectorizer = get_vectorizer(cand_lines, 500)\n",
    "\n",
    "vocab = vectorizer.get_feature_names()\n",
    "clinton_train = vectorizer.transform(cand_lines['CLINTON']).toarray()"
   ]
  },
  {
   "cell_type": "code",
   "execution_count": 6,
   "metadata": {
    "collapsed": false
   },
   "outputs": [],
   "source": [
    "# Process the data\n",
    "\n",
    "cand_lines = {c: get_processed_lines(c, min_len=200) for c in candidates}\n",
    "raw_test_data, raw_train_data = test_train_split(cand_lines, 0.25)\n",
    "train_data = dict.fromkeys(cand_list)\n",
    "test_data = dict.fromkeys(cand_list)\n",
    "\n",
    "vectorizer = get_vectorizer(raw_train_data, 1000)\n",
    "vocab = vectorizer.get_feature_names()\n",
    "\n",
    "for c in train_data:\n",
    "    train_data[c] = vectorizer.transform(raw_train_data[c]).toarray()\n",
    "    test_data[c] = vectorizer.transform(raw_test_data[c]).toarray()\n",
    "\n",
    "train_data = normalize(train_data)\n",
    "test_data = normalize(test_data)\n",
    "\n",
    "train_x, test_x = None, None\n",
    "train_y, test_y = [], []\n",
    "\n",
    "raw_train_x, raw_test_x = [], []\n",
    "\n",
    "for c in train_data:\n",
    "    i  = cand_list.index(c)\n",
    "    if train_x is None:\n",
    "        train_x = train_data[c]\n",
    "    else:\n",
    "        train_x = np.concatenate((train_x, train_data[c]))\n",
    "    raw_train_x += raw_train_data[c]\n",
    "    train_y += [i] * len(train_data[c])\n",
    "    \n",
    "for c in test_data:\n",
    "    i  = cand_list.index(c)\n",
    "    if test_x is None:\n",
    "        test_x = test_data[c]\n",
    "    else:\n",
    "        test_x = np.concatenate((test_x, test_data[c]))\n",
    "    raw_test_x += raw_test_data[c]\n",
    "    test_y += [i] * len(test_data[c])\n",
    "    \n",
    "train_y = np.array(train_y)\n",
    "test_y = np.array(test_y)\n",
    "\n",
    "def to_actual_line(i):\n",
    "    key = raw_test_x[i]\n",
    "    return block_dic[key]"
   ]
  },
  {
   "cell_type": "code",
   "execution_count": 7,
   "metadata": {
    "collapsed": false
   },
   "outputs": [
    {
     "data": {
      "text/plain": [
       "(1553, 1000)"
      ]
     },
     "execution_count": 7,
     "metadata": {},
     "output_type": "execute_result"
    }
   ],
   "source": [
    "train_x.shape"
   ]
  },
  {
   "cell_type": "code",
   "execution_count": 8,
   "metadata": {
    "collapsed": false
   },
   "outputs": [
    {
     "data": {
      "text/plain": [
       "(515, 1000)"
      ]
     },
     "execution_count": 8,
     "metadata": {},
     "output_type": "execute_result"
    }
   ],
   "source": [
    "test_x.shape"
   ]
  },
  {
   "cell_type": "code",
   "execution_count": 31,
   "metadata": {
    "collapsed": false
   },
   "outputs": [],
   "source": [
    "# Optimize C and gamma\n",
    "\n",
    "_C = []\n",
    "_gamma = []\n",
    "_train = []\n",
    "_test = []\n",
    "\n",
    "for C in [1, 10, 100]:\n",
    "    for gamma in [0.01, 0.1, 1, 10]:\n",
    "        clf = svm.SVC(C=C, gamma=gamma)\n",
    "        clf.fit(train_x, train_y)\n",
    "        _C.append(C)\n",
    "        _gamma.append(gamma)\n",
    "        _train.append(clf.score(train_x, train_y))\n",
    "        _test.append(clf.score(test_x, test_y))"
   ]
  },
  {
   "cell_type": "code",
   "execution_count": 22,
   "metadata": {
    "collapsed": false
   },
   "outputs": [
    {
     "data": {
      "text/html": [
       "<div>\n",
       "<table border=\"1\" class=\"dataframe\">\n",
       "  <thead>\n",
       "    <tr style=\"text-align: right;\">\n",
       "      <th></th>\n",
       "      <th>C</th>\n",
       "      <th>gamma</th>\n",
       "      <th>test_score</th>\n",
       "      <th>train_score</th>\n",
       "    </tr>\n",
       "  </thead>\n",
       "  <tbody>\n",
       "    <tr>\n",
       "      <th>0</th>\n",
       "      <td>1</td>\n",
       "      <td>0.01</td>\n",
       "      <td>0.685437</td>\n",
       "      <td>0.810045</td>\n",
       "    </tr>\n",
       "    <tr>\n",
       "      <th>1</th>\n",
       "      <td>1</td>\n",
       "      <td>0.10</td>\n",
       "      <td>0.636893</td>\n",
       "      <td>0.995493</td>\n",
       "    </tr>\n",
       "    <tr>\n",
       "      <th>2</th>\n",
       "      <td>1</td>\n",
       "      <td>1.00</td>\n",
       "      <td>0.271845</td>\n",
       "      <td>1.000000</td>\n",
       "    </tr>\n",
       "    <tr>\n",
       "      <th>3</th>\n",
       "      <td>1</td>\n",
       "      <td>10.00</td>\n",
       "      <td>0.271845</td>\n",
       "      <td>1.000000</td>\n",
       "    </tr>\n",
       "    <tr>\n",
       "      <th>4</th>\n",
       "      <td>10</td>\n",
       "      <td>0.01</td>\n",
       "      <td>0.683495</td>\n",
       "      <td>0.983258</td>\n",
       "    </tr>\n",
       "    <tr>\n",
       "      <th>5</th>\n",
       "      <td>10</td>\n",
       "      <td>0.10</td>\n",
       "      <td>0.660194</td>\n",
       "      <td>1.000000</td>\n",
       "    </tr>\n",
       "    <tr>\n",
       "      <th>6</th>\n",
       "      <td>10</td>\n",
       "      <td>1.00</td>\n",
       "      <td>0.271845</td>\n",
       "      <td>1.000000</td>\n",
       "    </tr>\n",
       "    <tr>\n",
       "      <th>7</th>\n",
       "      <td>10</td>\n",
       "      <td>10.00</td>\n",
       "      <td>0.271845</td>\n",
       "      <td>1.000000</td>\n",
       "    </tr>\n",
       "    <tr>\n",
       "      <th>8</th>\n",
       "      <td>100</td>\n",
       "      <td>0.01</td>\n",
       "      <td>0.685437</td>\n",
       "      <td>1.000000</td>\n",
       "    </tr>\n",
       "    <tr>\n",
       "      <th>9</th>\n",
       "      <td>100</td>\n",
       "      <td>0.10</td>\n",
       "      <td>0.660194</td>\n",
       "      <td>1.000000</td>\n",
       "    </tr>\n",
       "    <tr>\n",
       "      <th>10</th>\n",
       "      <td>100</td>\n",
       "      <td>1.00</td>\n",
       "      <td>0.271845</td>\n",
       "      <td>1.000000</td>\n",
       "    </tr>\n",
       "    <tr>\n",
       "      <th>11</th>\n",
       "      <td>100</td>\n",
       "      <td>10.00</td>\n",
       "      <td>0.271845</td>\n",
       "      <td>1.000000</td>\n",
       "    </tr>\n",
       "  </tbody>\n",
       "</table>\n",
       "</div>"
      ],
      "text/plain": [
       "      C  gamma  test_score  train_score\n",
       "0     1   0.01    0.685437     0.810045\n",
       "1     1   0.10    0.636893     0.995493\n",
       "2     1   1.00    0.271845     1.000000\n",
       "3     1  10.00    0.271845     1.000000\n",
       "4    10   0.01    0.683495     0.983258\n",
       "5    10   0.10    0.660194     1.000000\n",
       "6    10   1.00    0.271845     1.000000\n",
       "7    10  10.00    0.271845     1.000000\n",
       "8   100   0.01    0.685437     1.000000\n",
       "9   100   0.10    0.660194     1.000000\n",
       "10  100   1.00    0.271845     1.000000\n",
       "11  100  10.00    0.271845     1.000000"
      ]
     },
     "execution_count": 22,
     "metadata": {},
     "output_type": "execute_result"
    }
   ],
   "source": [
    "# Non-normalized data. min_len = 200, num_words = 200\n",
    "\n",
    "DataFrame({'C': _C, 'gamma': _gamma, 'train_score': _train, 'test_score': _test})"
   ]
  },
  {
   "cell_type": "code",
   "execution_count": 25,
   "metadata": {
    "collapsed": false
   },
   "outputs": [
    {
     "data": {
      "text/html": [
       "<div>\n",
       "<table border=\"1\" class=\"dataframe\">\n",
       "  <thead>\n",
       "    <tr style=\"text-align: right;\">\n",
       "      <th></th>\n",
       "      <th>C</th>\n",
       "      <th>gamma</th>\n",
       "      <th>test_score</th>\n",
       "      <th>train_score</th>\n",
       "    </tr>\n",
       "  </thead>\n",
       "  <tbody>\n",
       "    <tr>\n",
       "      <th>0</th>\n",
       "      <td>1</td>\n",
       "      <td>0.01</td>\n",
       "      <td>0.211650</td>\n",
       "      <td>0.210560</td>\n",
       "    </tr>\n",
       "    <tr>\n",
       "      <th>1</th>\n",
       "      <td>1</td>\n",
       "      <td>0.10</td>\n",
       "      <td>0.211650</td>\n",
       "      <td>0.213780</td>\n",
       "    </tr>\n",
       "    <tr>\n",
       "      <th>2</th>\n",
       "      <td>1</td>\n",
       "      <td>1.00</td>\n",
       "      <td>0.561165</td>\n",
       "      <td>0.705731</td>\n",
       "    </tr>\n",
       "    <tr>\n",
       "      <th>3</th>\n",
       "      <td>1</td>\n",
       "      <td>10.00</td>\n",
       "      <td>0.590291</td>\n",
       "      <td>0.963941</td>\n",
       "    </tr>\n",
       "    <tr>\n",
       "      <th>4</th>\n",
       "      <td>10</td>\n",
       "      <td>0.01</td>\n",
       "      <td>0.213592</td>\n",
       "      <td>0.214424</td>\n",
       "    </tr>\n",
       "    <tr>\n",
       "      <th>5</th>\n",
       "      <td>10</td>\n",
       "      <td>0.10</td>\n",
       "      <td>0.561165</td>\n",
       "      <td>0.703155</td>\n",
       "    </tr>\n",
       "    <tr>\n",
       "      <th>6</th>\n",
       "      <td>10</td>\n",
       "      <td>1.00</td>\n",
       "      <td>0.615534</td>\n",
       "      <td>0.858983</td>\n",
       "    </tr>\n",
       "    <tr>\n",
       "      <th>7</th>\n",
       "      <td>10</td>\n",
       "      <td>10.00</td>\n",
       "      <td>0.611650</td>\n",
       "      <td>1.000000</td>\n",
       "    </tr>\n",
       "    <tr>\n",
       "      <th>8</th>\n",
       "      <td>100</td>\n",
       "      <td>0.01</td>\n",
       "      <td>0.559223</td>\n",
       "      <td>0.699936</td>\n",
       "    </tr>\n",
       "    <tr>\n",
       "      <th>9</th>\n",
       "      <td>100</td>\n",
       "      <td>0.10</td>\n",
       "      <td>0.596117</td>\n",
       "      <td>0.808113</td>\n",
       "    </tr>\n",
       "    <tr>\n",
       "      <th>10</th>\n",
       "      <td>100</td>\n",
       "      <td>1.00</td>\n",
       "      <td>0.605825</td>\n",
       "      <td>0.995493</td>\n",
       "    </tr>\n",
       "    <tr>\n",
       "      <th>11</th>\n",
       "      <td>100</td>\n",
       "      <td>10.00</td>\n",
       "      <td>0.611650</td>\n",
       "      <td>1.000000</td>\n",
       "    </tr>\n",
       "  </tbody>\n",
       "</table>\n",
       "</div>"
      ],
      "text/plain": [
       "      C  gamma  test_score  train_score\n",
       "0     1   0.01    0.211650     0.210560\n",
       "1     1   0.10    0.211650     0.213780\n",
       "2     1   1.00    0.561165     0.705731\n",
       "3     1  10.00    0.590291     0.963941\n",
       "4    10   0.01    0.213592     0.214424\n",
       "5    10   0.10    0.561165     0.703155\n",
       "6    10   1.00    0.615534     0.858983\n",
       "7    10  10.00    0.611650     1.000000\n",
       "8   100   0.01    0.559223     0.699936\n",
       "9   100   0.10    0.596117     0.808113\n",
       "10  100   1.00    0.605825     0.995493\n",
       "11  100  10.00    0.611650     1.000000"
      ]
     },
     "execution_count": 25,
     "metadata": {},
     "output_type": "execute_result"
    }
   ],
   "source": [
    "# min_len = 200, num_words = 200\n",
    "\n",
    "DataFrame({'C': _C, 'gamma': _gamma, 'train_score': _train, 'test_score': _test})"
   ]
  },
  {
   "cell_type": "code",
   "execution_count": 9,
   "metadata": {
    "collapsed": false
   },
   "outputs": [
    {
     "data": {
      "text/html": [
       "<div>\n",
       "<table border=\"1\" class=\"dataframe\">\n",
       "  <thead>\n",
       "    <tr style=\"text-align: right;\">\n",
       "      <th></th>\n",
       "      <th>C</th>\n",
       "      <th>gamma</th>\n",
       "      <th>test_score</th>\n",
       "      <th>train_score</th>\n",
       "    </tr>\n",
       "  </thead>\n",
       "  <tbody>\n",
       "    <tr>\n",
       "      <th>0</th>\n",
       "      <td>1</td>\n",
       "      <td>0.01</td>\n",
       "      <td>0.211650</td>\n",
       "      <td>0.210560</td>\n",
       "    </tr>\n",
       "    <tr>\n",
       "      <th>1</th>\n",
       "      <td>1</td>\n",
       "      <td>0.10</td>\n",
       "      <td>0.211650</td>\n",
       "      <td>0.210560</td>\n",
       "    </tr>\n",
       "    <tr>\n",
       "      <th>2</th>\n",
       "      <td>1</td>\n",
       "      <td>1.00</td>\n",
       "      <td>0.634951</td>\n",
       "      <td>0.729556</td>\n",
       "    </tr>\n",
       "    <tr>\n",
       "      <th>3</th>\n",
       "      <td>1</td>\n",
       "      <td>10.00</td>\n",
       "      <td>0.732039</td>\n",
       "      <td>0.960721</td>\n",
       "    </tr>\n",
       "    <tr>\n",
       "      <th>4</th>\n",
       "      <td>10</td>\n",
       "      <td>0.01</td>\n",
       "      <td>0.211650</td>\n",
       "      <td>0.210560</td>\n",
       "    </tr>\n",
       "    <tr>\n",
       "      <th>5</th>\n",
       "      <td>10</td>\n",
       "      <td>0.10</td>\n",
       "      <td>0.633010</td>\n",
       "      <td>0.732775</td>\n",
       "    </tr>\n",
       "    <tr>\n",
       "      <th>6</th>\n",
       "      <td>10</td>\n",
       "      <td>1.00</td>\n",
       "      <td>0.710680</td>\n",
       "      <td>0.927238</td>\n",
       "    </tr>\n",
       "    <tr>\n",
       "      <th>7</th>\n",
       "      <td>10</td>\n",
       "      <td>10.00</td>\n",
       "      <td>0.718447</td>\n",
       "      <td>1.000000</td>\n",
       "    </tr>\n",
       "    <tr>\n",
       "      <th>8</th>\n",
       "      <td>100</td>\n",
       "      <td>0.01</td>\n",
       "      <td>0.629126</td>\n",
       "      <td>0.729556</td>\n",
       "    </tr>\n",
       "    <tr>\n",
       "      <th>9</th>\n",
       "      <td>100</td>\n",
       "      <td>0.10</td>\n",
       "      <td>0.695146</td>\n",
       "      <td>0.908564</td>\n",
       "    </tr>\n",
       "    <tr>\n",
       "      <th>10</th>\n",
       "      <td>100</td>\n",
       "      <td>1.00</td>\n",
       "      <td>0.681553</td>\n",
       "      <td>1.000000</td>\n",
       "    </tr>\n",
       "    <tr>\n",
       "      <th>11</th>\n",
       "      <td>100</td>\n",
       "      <td>10.00</td>\n",
       "      <td>0.718447</td>\n",
       "      <td>1.000000</td>\n",
       "    </tr>\n",
       "  </tbody>\n",
       "</table>\n",
       "</div>"
      ],
      "text/plain": [
       "      C  gamma  test_score  train_score\n",
       "0     1   0.01    0.211650     0.210560\n",
       "1     1   0.10    0.211650     0.210560\n",
       "2     1   1.00    0.634951     0.729556\n",
       "3     1  10.00    0.732039     0.960721\n",
       "4    10   0.01    0.211650     0.210560\n",
       "5    10   0.10    0.633010     0.732775\n",
       "6    10   1.00    0.710680     0.927238\n",
       "7    10  10.00    0.718447     1.000000\n",
       "8   100   0.01    0.629126     0.729556\n",
       "9   100   0.10    0.695146     0.908564\n",
       "10  100   1.00    0.681553     1.000000\n",
       "11  100  10.00    0.718447     1.000000"
      ]
     },
     "execution_count": 9,
     "metadata": {},
     "output_type": "execute_result"
    }
   ],
   "source": [
    "# min_len = 200, num_words = 500\n",
    "\n",
    "DataFrame({'C': _C, 'gamma': _gamma, 'train_score': _train, 'test_score': _test})"
   ]
  },
  {
   "cell_type": "code",
   "execution_count": 32,
   "metadata": {
    "collapsed": false
   },
   "outputs": [
    {
     "data": {
      "text/html": [
       "<div>\n",
       "<table border=\"1\" class=\"dataframe\">\n",
       "  <thead>\n",
       "    <tr style=\"text-align: right;\">\n",
       "      <th></th>\n",
       "      <th>C</th>\n",
       "      <th>gamma</th>\n",
       "      <th>test_score</th>\n",
       "      <th>train_score</th>\n",
       "    </tr>\n",
       "  </thead>\n",
       "  <tbody>\n",
       "    <tr>\n",
       "      <th>0</th>\n",
       "      <td>1</td>\n",
       "      <td>0.01</td>\n",
       "      <td>0.211650</td>\n",
       "      <td>0.210560</td>\n",
       "    </tr>\n",
       "    <tr>\n",
       "      <th>1</th>\n",
       "      <td>1</td>\n",
       "      <td>0.10</td>\n",
       "      <td>0.211650</td>\n",
       "      <td>0.210560</td>\n",
       "    </tr>\n",
       "    <tr>\n",
       "      <th>2</th>\n",
       "      <td>1</td>\n",
       "      <td>1.00</td>\n",
       "      <td>0.631068</td>\n",
       "      <td>0.740502</td>\n",
       "    </tr>\n",
       "    <tr>\n",
       "      <th>3</th>\n",
       "      <td>1</td>\n",
       "      <td>10.00</td>\n",
       "      <td>0.733981</td>\n",
       "      <td>0.966516</td>\n",
       "    </tr>\n",
       "    <tr>\n",
       "      <th>4</th>\n",
       "      <td>10</td>\n",
       "      <td>0.01</td>\n",
       "      <td>0.211650</td>\n",
       "      <td>0.210560</td>\n",
       "    </tr>\n",
       "    <tr>\n",
       "      <th>5</th>\n",
       "      <td>10</td>\n",
       "      <td>0.10</td>\n",
       "      <td>0.629126</td>\n",
       "      <td>0.745010</td>\n",
       "    </tr>\n",
       "    <tr>\n",
       "      <th>6</th>\n",
       "      <td>10</td>\n",
       "      <td>1.00</td>\n",
       "      <td>0.757282</td>\n",
       "      <td>0.951062</td>\n",
       "    </tr>\n",
       "    <tr>\n",
       "      <th>7</th>\n",
       "      <td>10</td>\n",
       "      <td>10.00</td>\n",
       "      <td>0.765049</td>\n",
       "      <td>1.000000</td>\n",
       "    </tr>\n",
       "    <tr>\n",
       "      <th>8</th>\n",
       "      <td>100</td>\n",
       "      <td>0.01</td>\n",
       "      <td>0.629126</td>\n",
       "      <td>0.745654</td>\n",
       "    </tr>\n",
       "    <tr>\n",
       "      <th>9</th>\n",
       "      <td>100</td>\n",
       "      <td>0.10</td>\n",
       "      <td>0.749515</td>\n",
       "      <td>0.944623</td>\n",
       "    </tr>\n",
       "    <tr>\n",
       "      <th>10</th>\n",
       "      <td>100</td>\n",
       "      <td>1.00</td>\n",
       "      <td>0.716505</td>\n",
       "      <td>1.000000</td>\n",
       "    </tr>\n",
       "    <tr>\n",
       "      <th>11</th>\n",
       "      <td>100</td>\n",
       "      <td>10.00</td>\n",
       "      <td>0.765049</td>\n",
       "      <td>1.000000</td>\n",
       "    </tr>\n",
       "  </tbody>\n",
       "</table>\n",
       "</div>"
      ],
      "text/plain": [
       "      C  gamma  test_score  train_score\n",
       "0     1   0.01    0.211650     0.210560\n",
       "1     1   0.10    0.211650     0.210560\n",
       "2     1   1.00    0.631068     0.740502\n",
       "3     1  10.00    0.733981     0.966516\n",
       "4    10   0.01    0.211650     0.210560\n",
       "5    10   0.10    0.629126     0.745010\n",
       "6    10   1.00    0.757282     0.951062\n",
       "7    10  10.00    0.765049     1.000000\n",
       "8   100   0.01    0.629126     0.745654\n",
       "9   100   0.10    0.749515     0.944623\n",
       "10  100   1.00    0.716505     1.000000\n",
       "11  100  10.00    0.765049     1.000000"
      ]
     },
     "execution_count": 32,
     "metadata": {},
     "output_type": "execute_result"
    }
   ],
   "source": [
    "# min_len = 200, num_words = 1000\n",
    "\n",
    "DataFrame({'C': _C, 'gamma': _gamma, 'train_score': _train, 'test_score': _test})"
   ]
  },
  {
   "cell_type": "code",
   "execution_count": 19,
   "metadata": {
    "collapsed": false
   },
   "outputs": [
    {
     "data": {
      "text/html": [
       "<div>\n",
       "<table border=\"1\" class=\"dataframe\">\n",
       "  <thead>\n",
       "    <tr style=\"text-align: right;\">\n",
       "      <th></th>\n",
       "      <th>C</th>\n",
       "      <th>gamma</th>\n",
       "      <th>test_score</th>\n",
       "      <th>train_score</th>\n",
       "    </tr>\n",
       "  </thead>\n",
       "  <tbody>\n",
       "    <tr>\n",
       "      <th>0</th>\n",
       "      <td>1</td>\n",
       "      <td>0.01</td>\n",
       "      <td>0.245614</td>\n",
       "      <td>0.240000</td>\n",
       "    </tr>\n",
       "    <tr>\n",
       "      <th>1</th>\n",
       "      <td>1</td>\n",
       "      <td>0.10</td>\n",
       "      <td>0.245614</td>\n",
       "      <td>0.240000</td>\n",
       "    </tr>\n",
       "    <tr>\n",
       "      <th>2</th>\n",
       "      <td>1</td>\n",
       "      <td>1.00</td>\n",
       "      <td>0.245614</td>\n",
       "      <td>0.240000</td>\n",
       "    </tr>\n",
       "    <tr>\n",
       "      <th>3</th>\n",
       "      <td>1</td>\n",
       "      <td>10.00</td>\n",
       "      <td>0.701754</td>\n",
       "      <td>0.971429</td>\n",
       "    </tr>\n",
       "    <tr>\n",
       "      <th>4</th>\n",
       "      <td>10</td>\n",
       "      <td>0.01</td>\n",
       "      <td>0.245614</td>\n",
       "      <td>0.240000</td>\n",
       "    </tr>\n",
       "    <tr>\n",
       "      <th>5</th>\n",
       "      <td>10</td>\n",
       "      <td>0.10</td>\n",
       "      <td>0.245614</td>\n",
       "      <td>0.240000</td>\n",
       "    </tr>\n",
       "    <tr>\n",
       "      <th>6</th>\n",
       "      <td>10</td>\n",
       "      <td>1.00</td>\n",
       "      <td>0.710526</td>\n",
       "      <td>0.974286</td>\n",
       "    </tr>\n",
       "    <tr>\n",
       "      <th>7</th>\n",
       "      <td>10</td>\n",
       "      <td>10.00</td>\n",
       "      <td>0.763158</td>\n",
       "      <td>1.000000</td>\n",
       "    </tr>\n",
       "    <tr>\n",
       "      <th>8</th>\n",
       "      <td>100</td>\n",
       "      <td>0.01</td>\n",
       "      <td>0.245614</td>\n",
       "      <td>0.240000</td>\n",
       "    </tr>\n",
       "    <tr>\n",
       "      <th>9</th>\n",
       "      <td>100</td>\n",
       "      <td>0.10</td>\n",
       "      <td>0.684211</td>\n",
       "      <td>0.962857</td>\n",
       "    </tr>\n",
       "    <tr>\n",
       "      <th>10</th>\n",
       "      <td>100</td>\n",
       "      <td>1.00</td>\n",
       "      <td>0.701754</td>\n",
       "      <td>1.000000</td>\n",
       "    </tr>\n",
       "    <tr>\n",
       "      <th>11</th>\n",
       "      <td>100</td>\n",
       "      <td>10.00</td>\n",
       "      <td>0.763158</td>\n",
       "      <td>1.000000</td>\n",
       "    </tr>\n",
       "  </tbody>\n",
       "</table>\n",
       "</div>"
      ],
      "text/plain": [
       "      C  gamma  test_score  train_score\n",
       "0     1   0.01    0.245614     0.240000\n",
       "1     1   0.10    0.245614     0.240000\n",
       "2     1   1.00    0.245614     0.240000\n",
       "3     1  10.00    0.701754     0.971429\n",
       "4    10   0.01    0.245614     0.240000\n",
       "5    10   0.10    0.245614     0.240000\n",
       "6    10   1.00    0.710526     0.974286\n",
       "7    10  10.00    0.763158     1.000000\n",
       "8   100   0.01    0.245614     0.240000\n",
       "9   100   0.10    0.684211     0.962857\n",
       "10  100   1.00    0.701754     1.000000\n",
       "11  100  10.00    0.763158     1.000000"
      ]
     },
     "execution_count": 19,
     "metadata": {},
     "output_type": "execute_result"
    }
   ],
   "source": [
    "# min_len = 400, num_words = 500\n",
    "\n",
    "DataFrame({'C': _C, 'gamma': _gamma, 'train_score': _train, 'test_score': _test})"
   ]
  },
  {
   "cell_type": "code",
   "execution_count": 9,
   "metadata": {
    "collapsed": false
   },
   "outputs": [
    {
     "data": {
      "text/plain": [
       "0.6912621359223301"
      ]
     },
     "execution_count": 9,
     "metadata": {},
     "output_type": "execute_result"
    }
   ],
   "source": [
    "# Best model\n",
    "\n",
    "clf = svm.SVC(C=10, gamma=10, probability=True)\n",
    "clf.fit(train_x, train_y)\n",
    "clf.score(test_x, test_y)"
   ]
  },
  {
   "cell_type": "code",
   "execution_count": 10,
   "metadata": {
    "collapsed": false
   },
   "outputs": [
    {
     "data": {
      "text/plain": [
       "array([4, 4, 4, 4, 4, 4, 4, 4, 4, 4, 4, 4, 4, 4, 4, 4, 4, 4, 4, 4, 4, 4, 4,\n",
       "       4, 4, 4, 4, 4, 4, 4, 4, 4, 4, 4, 4, 4, 4, 4, 4, 4, 4, 4, 4, 4, 4, 4,\n",
       "       4, 4, 4, 4, 4, 4, 4, 4, 4, 4, 4, 4, 4, 4, 4, 4, 4, 1, 4, 4, 4, 4, 4,\n",
       "       4, 4, 4, 4, 4, 4, 4, 4, 4, 4, 4, 4, 4, 4, 4, 4, 4, 4, 4, 4, 4, 4, 4,\n",
       "       4, 4, 4, 4, 4, 4, 4, 4, 4, 4, 4, 4, 4, 4, 4, 4, 4, 4, 4, 4, 4, 4, 4,\n",
       "       4, 4, 4, 4, 4, 4, 4, 4, 4, 4, 4, 4, 4, 4, 4, 4, 4, 4, 4, 4, 4, 4, 4,\n",
       "       4, 4, 4, 4, 4, 4, 4, 4, 4, 4, 4, 4, 4, 4, 4, 4, 4, 4, 4, 4, 4, 4, 4,\n",
       "       4, 4, 4, 4, 4, 4, 4, 4, 4, 4, 4, 4, 4, 4, 4, 4, 4, 4, 4, 4, 4, 4, 4,\n",
       "       4, 4, 4, 4, 4, 4, 4, 4, 4, 4, 4, 4, 4, 4, 4, 4, 4, 4, 4, 4, 4, 4, 4,\n",
       "       4, 4, 4, 4, 4, 4, 4, 4, 4, 4, 4, 4, 4, 4, 4, 4, 4, 4, 4, 4, 4, 4, 4,\n",
       "       4, 4, 4, 4, 4, 4, 4, 4, 4, 4, 4, 4, 4, 4, 4, 4, 4, 4, 4, 4, 4, 4, 4,\n",
       "       4, 4, 4, 4, 4, 4, 4, 4, 4, 4, 4, 4, 4, 4, 4, 4, 4, 4, 4, 4, 4, 4, 4,\n",
       "       4, 4, 4, 4, 4, 4, 4, 4, 4, 4, 4, 4, 4, 4, 4, 4, 4, 4, 4, 4, 4, 4, 4,\n",
       "       4, 4, 4, 4, 4, 4, 4, 4, 4, 4, 4, 4, 4, 4, 4, 4, 4, 4, 4, 4, 4, 4, 4,\n",
       "       4, 4, 4, 4, 4, 4, 4, 4, 4, 4, 4, 4, 4, 4, 4, 4, 4, 4, 4, 4, 4, 4, 4,\n",
       "       4, 4, 4, 4, 4, 4, 4, 4, 4, 4, 4, 4, 4, 4, 4, 4, 4, 4, 4, 4, 4, 4, 4,\n",
       "       4, 4, 4, 4, 4, 4, 4, 4, 4, 4, 4, 4, 4, 4, 4, 4, 4, 4, 4, 4, 4, 4, 4,\n",
       "       4, 4, 4, 4, 4, 4, 4, 4, 4, 4, 4, 4, 4, 4, 4, 4, 4, 4, 4, 4, 4, 4, 4,\n",
       "       4, 4, 4, 4, 4, 4, 4, 4, 4, 4, 4, 4, 4, 4, 4, 4, 4, 4, 4, 4, 4, 4, 4,\n",
       "       4, 4, 4, 4, 4, 4, 4, 4, 4, 4, 4, 4, 4, 4, 4, 4, 4, 4, 4, 4, 4, 4, 4,\n",
       "       4, 4, 4, 4, 4, 4, 4, 4, 4, 4, 4, 4, 2, 4, 4, 4, 4, 4, 4, 4, 4, 4, 4,\n",
       "       4, 4, 4, 4, 4, 4, 4, 4, 4, 4, 4, 4, 4, 4, 4, 4, 4])"
      ]
     },
     "execution_count": 10,
     "metadata": {},
     "output_type": "execute_result"
    }
   ],
   "source": [
    "# One word test1\n",
    "\n",
    "clf.predict(np.eye(500))"
   ]
  },
  {
   "cell_type": "code",
   "execution_count": 65,
   "metadata": {
    "collapsed": false
   },
   "outputs": [
    {
     "data": {
      "text/html": [
       "<div>\n",
       "<table border=\"1\" class=\"dataframe\">\n",
       "  <thead>\n",
       "    <tr style=\"text-align: right;\">\n",
       "      <th></th>\n",
       "      <th>CLINTON</th>\n",
       "      <th>CRUZ</th>\n",
       "      <th>RUBIO</th>\n",
       "      <th>SANDERS</th>\n",
       "      <th>TRUMP</th>\n",
       "    </tr>\n",
       "  </thead>\n",
       "  <tbody>\n",
       "    <tr>\n",
       "      <th>count</th>\n",
       "      <td>500.000000</td>\n",
       "      <td>500.000000</td>\n",
       "      <td>500.000000</td>\n",
       "      <td>500.000000</td>\n",
       "      <td>500.000000</td>\n",
       "    </tr>\n",
       "    <tr>\n",
       "      <th>mean</th>\n",
       "      <td>0.035903</td>\n",
       "      <td>0.233178</td>\n",
       "      <td>0.225803</td>\n",
       "      <td>0.047535</td>\n",
       "      <td>0.457581</td>\n",
       "    </tr>\n",
       "    <tr>\n",
       "      <th>std</th>\n",
       "      <td>0.001292</td>\n",
       "      <td>0.010233</td>\n",
       "      <td>0.032434</td>\n",
       "      <td>0.001802</td>\n",
       "      <td>0.020166</td>\n",
       "    </tr>\n",
       "    <tr>\n",
       "      <th>min</th>\n",
       "      <td>0.007286</td>\n",
       "      <td>0.022943</td>\n",
       "      <td>0.207872</td>\n",
       "      <td>0.007575</td>\n",
       "      <td>0.013114</td>\n",
       "    </tr>\n",
       "    <tr>\n",
       "      <th>25%</th>\n",
       "      <td>0.035929</td>\n",
       "      <td>0.233241</td>\n",
       "      <td>0.224167</td>\n",
       "      <td>0.047577</td>\n",
       "      <td>0.458361</td>\n",
       "    </tr>\n",
       "    <tr>\n",
       "      <th>50%</th>\n",
       "      <td>0.035957</td>\n",
       "      <td>0.233397</td>\n",
       "      <td>0.224329</td>\n",
       "      <td>0.047611</td>\n",
       "      <td>0.458560</td>\n",
       "    </tr>\n",
       "    <tr>\n",
       "      <th>75%</th>\n",
       "      <td>0.035986</td>\n",
       "      <td>0.233557</td>\n",
       "      <td>0.224478</td>\n",
       "      <td>0.047651</td>\n",
       "      <td>0.458818</td>\n",
       "    </tr>\n",
       "    <tr>\n",
       "      <th>max</th>\n",
       "      <td>0.037658</td>\n",
       "      <td>0.320959</td>\n",
       "      <td>0.949082</td>\n",
       "      <td>0.048920</td>\n",
       "      <td>0.465959</td>\n",
       "    </tr>\n",
       "  </tbody>\n",
       "</table>\n",
       "</div>"
      ],
      "text/plain": [
       "          CLINTON        CRUZ       RUBIO     SANDERS       TRUMP\n",
       "count  500.000000  500.000000  500.000000  500.000000  500.000000\n",
       "mean     0.035903    0.233178    0.225803    0.047535    0.457581\n",
       "std      0.001292    0.010233    0.032434    0.001802    0.020166\n",
       "min      0.007286    0.022943    0.207872    0.007575    0.013114\n",
       "25%      0.035929    0.233241    0.224167    0.047577    0.458361\n",
       "50%      0.035957    0.233397    0.224329    0.047611    0.458560\n",
       "75%      0.035986    0.233557    0.224478    0.047651    0.458818\n",
       "max      0.037658    0.320959    0.949082    0.048920    0.465959"
      ]
     },
     "execution_count": 65,
     "metadata": {},
     "output_type": "execute_result"
    }
   ],
   "source": [
    "# One word test2\n",
    "\n",
    "x = clf.predict_proba(np.eye(500))\n",
    "df = DataFrame(x, columns=cand_list)\n",
    "\n",
    "df.describe()"
   ]
  },
  {
   "cell_type": "code",
   "execution_count": 11,
   "metadata": {
    "collapsed": false
   },
   "outputs": [
    {
     "data": {
      "text/html": [
       "<div>\n",
       "<table border=\"1\" class=\"dataframe\">\n",
       "  <thead>\n",
       "    <tr style=\"text-align: right;\">\n",
       "      <th></th>\n",
       "      <th>CLINTON</th>\n",
       "      <th>CRUZ</th>\n",
       "      <th>RUBIO</th>\n",
       "      <th>SANDERS</th>\n",
       "      <th>TRUMP</th>\n",
       "    </tr>\n",
       "  </thead>\n",
       "  <tbody>\n",
       "    <tr>\n",
       "      <th>count</th>\n",
       "      <td>515.000000</td>\n",
       "      <td>515.000000</td>\n",
       "      <td>515.000000</td>\n",
       "      <td>515.000000</td>\n",
       "      <td>515.000000</td>\n",
       "    </tr>\n",
       "    <tr>\n",
       "      <th>mean</th>\n",
       "      <td>0.212200</td>\n",
       "      <td>0.182173</td>\n",
       "      <td>0.221974</td>\n",
       "      <td>0.184472</td>\n",
       "      <td>0.199182</td>\n",
       "    </tr>\n",
       "    <tr>\n",
       "      <th>std</th>\n",
       "      <td>0.282613</td>\n",
       "      <td>0.275430</td>\n",
       "      <td>0.272654</td>\n",
       "      <td>0.257935</td>\n",
       "      <td>0.295508</td>\n",
       "    </tr>\n",
       "    <tr>\n",
       "      <th>min</th>\n",
       "      <td>0.000035</td>\n",
       "      <td>0.000017</td>\n",
       "      <td>0.000152</td>\n",
       "      <td>0.000134</td>\n",
       "      <td>0.000019</td>\n",
       "    </tr>\n",
       "    <tr>\n",
       "      <th>25%</th>\n",
       "      <td>0.017839</td>\n",
       "      <td>0.009719</td>\n",
       "      <td>0.018418</td>\n",
       "      <td>0.016478</td>\n",
       "      <td>0.005144</td>\n",
       "    </tr>\n",
       "    <tr>\n",
       "      <th>50%</th>\n",
       "      <td>0.078168</td>\n",
       "      <td>0.045020</td>\n",
       "      <td>0.097873</td>\n",
       "      <td>0.064199</td>\n",
       "      <td>0.038656</td>\n",
       "    </tr>\n",
       "    <tr>\n",
       "      <th>75%</th>\n",
       "      <td>0.286387</td>\n",
       "      <td>0.212810</td>\n",
       "      <td>0.326758</td>\n",
       "      <td>0.222471</td>\n",
       "      <td>0.295469</td>\n",
       "    </tr>\n",
       "    <tr>\n",
       "      <th>max</th>\n",
       "      <td>0.999363</td>\n",
       "      <td>0.992064</td>\n",
       "      <td>0.982096</td>\n",
       "      <td>0.990046</td>\n",
       "      <td>0.997180</td>\n",
       "    </tr>\n",
       "  </tbody>\n",
       "</table>\n",
       "</div>"
      ],
      "text/plain": [
       "          CLINTON        CRUZ       RUBIO     SANDERS       TRUMP\n",
       "count  515.000000  515.000000  515.000000  515.000000  515.000000\n",
       "mean     0.212200    0.182173    0.221974    0.184472    0.199182\n",
       "std      0.282613    0.275430    0.272654    0.257935    0.295508\n",
       "min      0.000035    0.000017    0.000152    0.000134    0.000019\n",
       "25%      0.017839    0.009719    0.018418    0.016478    0.005144\n",
       "50%      0.078168    0.045020    0.097873    0.064199    0.038656\n",
       "75%      0.286387    0.212810    0.326758    0.222471    0.295469\n",
       "max      0.999363    0.992064    0.982096    0.990046    0.997180"
      ]
     },
     "execution_count": 11,
     "metadata": {},
     "output_type": "execute_result"
    }
   ],
   "source": [
    "# Investigate predict_prob for test_data 1\n",
    "\n",
    "x = clf.predict_proba(test_x)\n",
    "df = DataFrame(x, columns=cand_list)\n",
    "\n",
    "df.describe()"
   ]
  },
  {
   "cell_type": "code",
   "execution_count": 12,
   "metadata": {
    "collapsed": false
   },
   "outputs": [
    {
     "data": {
      "text/plain": [
       "<Container object of 500 artists>"
      ]
     },
     "execution_count": 12,
     "metadata": {},
     "output_type": "execute_result"
    },
    {
     "data": {
      "image/png": "[encoded data removed]",
      "text/plain": [
       "<matplotlib.figure.Figure at 0x10f9db350>"
      ]
     },
     "metadata": {},
     "output_type": "display_data"
    }
   ],
   "source": [
    "# Investigate predict_prob for test_data 2\n",
    "\n",
    "index_df = DataFrame(columns=cand_list)\n",
    "\n",
    "for c in cand_list:\n",
    "    index_df[c] = df[c].sort_values().index[-10:]\n",
    "\n",
    "x = np.zeros(500)\n",
    "y = np.zeros(500)\n",
    "\n",
    "for i in range(10):\n",
    "    i1 = index_df.CLINTON[i]\n",
    "    i2 = index_df.TRUMP[i]\n",
    "    x += test_x[i1]\n",
    "    y += test_x[i2]\n",
    "\n",
    "plt.figure(figsize=(16, 8))\n",
    "plt.ylim(0, 0.1)\n",
    "plt.bar(range(500), x/10, color='red')\n",
    "plt.bar(range(500), y/10, color='blue')"
   ]
  },
  {
   "cell_type": "code",
   "execution_count": 14,
   "metadata": {
    "collapsed": false
   },
   "outputs": [
    {
     "name": "stderr",
     "output_type": "stream",
     "text": [
      "/Users/yhjung/anaconda/lib/python2.7/site-packages/sklearn/utils/validation.py:386: DeprecationWarning: Passing 1d arrays as data is deprecated in 0.17 and willraise ValueError in 0.19. Reshape your data either using X.reshape(-1, 1) if your data has a single feature or X.reshape(1, -1) if it contains a single sample.\n",
      "  DeprecationWarning)\n"
     ]
    },
    {
     "data": {
      "text/plain": [
       "array([[  9.99332902e-01,   6.54542491e-07,   6.57274758e-06,\n",
       "          6.46891159e-04,   1.29796677e-05]])"
      ]
     },
     "execution_count": 14,
     "metadata": {},
     "output_type": "execute_result"
    }
   ],
   "source": [
    "clf.predict_proba(x/10)"
   ]
  },
  {
   "cell_type": "code",
   "execution_count": 21,
   "metadata": {
    "collapsed": false
   },
   "outputs": [
    {
     "data": {
      "text/plain": [
       "array([[75,  5, 12, 10,  7],\n",
       "       [ 4, 68, 16,  3,  7],\n",
       "       [ 7, 12, 73,  2, 14],\n",
       "       [16,  6,  9, 57, 10],\n",
       "       [ 2,  3,  6,  8, 83]])"
      ]
     },
     "execution_count": 21,
     "metadata": {},
     "output_type": "execute_result"
    }
   ],
   "source": [
    "confusion_matrix(test_y, clf.predict(test_x))"
   ]
  },
  {
   "cell_type": "code",
   "execution_count": 19,
   "metadata": {
    "collapsed": false
   },
   "outputs": [
    {
     "name": "stdout",
     "output_type": "stream",
     "text": [
      "             precision    recall  f1-score   support\n",
      "\n",
      "    CLINTON       0.72      0.69      0.70       109\n",
      "       CRUZ       0.72      0.69      0.71        98\n",
      "      RUBIO       0.63      0.68      0.65       108\n",
      "    SANDERS       0.71      0.58      0.64        98\n",
      "      TRUMP       0.69      0.81      0.74       102\n",
      "\n",
      "avg / total       0.69      0.69      0.69       515\n",
      "\n"
     ]
    }
   ],
   "source": [
    "from sklearn.metrics import classification_report\n",
    "\n",
    "print classification_report(test_y, clf.predict(test_x), target_names=cand_list)"
   ]
  },
  {
   "cell_type": "code",
   "execution_count": 16,
   "metadata": {
    "collapsed": false
   },
   "outputs": [
    {
     "data": {
      "text/plain": [
       "\" So I'm with both Senator Sanders and Governor O'Malley in putting a lot of attention onto the banks. And the plan that I have put forward would actually empower regulators to break up big banks if we thought they posed a risk. But I want to make sure we're going to cover everybody, not what caused the problem last time, but what could cause it next time.\""
      ]
     },
     "execution_count": 16,
     "metadata": {},
     "output_type": "execute_result"
    }
   ],
   "source": [
    "to_actual_line(i1)"
   ]
  },
  {
   "cell_type": "code",
   "execution_count": 17,
   "metadata": {
    "collapsed": false
   },
   "outputs": [
    {
     "data": {
      "text/plain": [
       "\" Let me just tell you. Jeb goes around saying, just like the biggest business leaders in this country, I've used the laws of the land to chapter \\x97 I bought a company, I threw it immediately into a chapter, I made a great deal. I uses the laws to my benefit, because I run a company.\""
      ]
     },
     "execution_count": 17,
     "metadata": {},
     "output_type": "execute_result"
    }
   ],
   "source": [
    "to_actual_line(i2)"
   ]
  },
  {
   "cell_type": "code",
   "execution_count": 14,
   "metadata": {
    "collapsed": false
   },
   "outputs": [
    {
     "data": {
      "text/plain": [
       "<matplotlib.patches.FancyArrow at 0x112b728d0>"
      ]
     },
     "execution_count": 14,
     "metadata": {},
     "output_type": "execute_result"
    },
    {
     "data": {
      "image/png": "[encoded data removed]",
      "text/plain": [
       "<matplotlib.figure.Figure at 0x112b97290>"
      ]
     },
     "metadata": {},
     "output_type": "display_data"
    }
   ],
   "source": [
    "plt.figure(figsize=(4, 8))\n",
    "plt.ylim(0, 6)\n",
    "plt.xlim(0, 3)\n",
    "plt.arrow(0, 0, 2, 5, head_width=0.05, head_length=0.1, ls='--', fc='blue', ec='blue')"
   ]
  }
 ],
 "metadata": {
  "kernelspec": {
   "display_name": "Python 2",
   "language": "python",
   "name": "python2"
  },
  "language_info": {
   "codemirror_mode": {
    "name": "ipython",
    "version": 2
   },
   "file_extension": ".py",
   "mimetype": "text/x-python",
   "name": "python",
   "nbconvert_exporter": "python",
   "pygments_lexer": "ipython2",
   "version": "2.7.11"
  }
 },
 "nbformat": 4,
 "nbformat_minor": 0
}
