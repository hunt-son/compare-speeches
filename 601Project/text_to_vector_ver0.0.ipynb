{
 "cells": [
  {
   "cell_type": "code",
   "execution_count": 47,
   "metadata": {
    "collapsed": true
   },
   "outputs": [],
   "source": [
    "import os\n",
    "import re\n",
    "import nltk\n",
    "from nltk.corpus import stopwords\n",
    "from sklearn.feature_extraction.text import CountVectorizer\n",
    "\n",
    "ROOT_DIR = os.getcwd()\n",
    "DATA_DIR = os.path.join(ROOT_DIR, 'Raw_debates')\n",
    "RESULT_DIR = os.path.join(ROOT_DIR, 'candidate_lines')\n",
    "\n",
    "candidates = {'CLINTON', 'SANDERS', 'TRUMP', 'RUBIO', 'CRUZ'}\n",
    "\n",
    "stops = set(stopwords.words(\"english\"))"
   ]
  },
  {
   "cell_type": "code",
   "execution_count": 82,
   "metadata": {
    "collapsed": false
   },
   "outputs": [],
   "source": [
    "def get_raw_text(cand_name):\n",
    "    file_name = '{0}.txt'.format(cand_name)\n",
    "    file_path = os.path.join(RESULT_DIR, file_name)\n",
    "    with open(file_path, 'rb') as f:\n",
    "        return f.read()\n",
    "\n",
    "def raw_to_blocks(cand_name, raw_text, delimiter='\\r\\n\\r\\n', min_len=200):\n",
    "    # Delete candidate's name\n",
    "    names_removed = raw_text.replace(cand_name + ':', '')\n",
    "    \n",
    "    # Split the text into paragraphs\n",
    "    splitted = names_removed.split(delimiter)\n",
    "\n",
    "    # Gather only long enough paragraphs\n",
    "    rets = [paragraph for paragraph in splitted if len(paragraph) > min_len]\n",
    "    return rets\n",
    "\n",
    "def process_paragraph(paragraph):\n",
    "    # Remove non-letters        \n",
    "    letters_only = re.sub(\"[^a-zA-Z]\", \" \", paragraph) \n",
    "    \n",
    "    # Convert to lower case, split into individual words\n",
    "    words = letters_only.lower().split()\n",
    "    \n",
    "    # Remove stop words\n",
    "    meaningful_words = [w for w in words if not w in stops]\n",
    "    \n",
    "    return ' '.join(meaningful_words)\n",
    "\n",
    "def get_processed_lines(cand_name, delimiter='\\r\\n\\r\\n', min_len=200):\n",
    "    raw_text = get_raw_text(cand_name)\n",
    "    blocks = raw_to_blocks(cand_name, raw_text, \n",
    "                           delimiter=delimiter, min_len=min_len)\n",
    "    return map(process_paragraph, blocks)\n",
    "\n",
    "def get_vectorizer(cand_lines, max_features=1000):\n",
    "    # Initialize the \"CountVectorizer\" object, which is scikit-learn's\n",
    "    # bag of words tool.  \n",
    "    vectorizer = CountVectorizer(analyzer = \"word\",   \\\n",
    "                                 tokenizer = None,    \\\n",
    "                                 preprocessor = None, \\\n",
    "                                 stop_words = None,   \\\n",
    "                                 max_features = max_features)\n",
    "    \n",
    "    concatenated = []\n",
    "    for cand_name, lines in cand_lines.iteritems():\n",
    "        concatenated += lines\n",
    "    \n",
    "    vectorizer.fit(concatenated)\n",
    "    return vectorizer"
   ]
  },
  {
   "cell_type": "code",
   "execution_count": 84,
   "metadata": {
    "collapsed": false
   },
   "outputs": [],
   "source": [
    "cand_lines = {c: get_processed_lines(c) for c in candidates}\n",
    "\n",
    "vectorizer = get_vectorizer(cand_lines, 100)"
   ]
  },
  {
   "cell_type": "code",
   "execution_count": 100,
   "metadata": {
    "collapsed": false
   },
   "outputs": [],
   "source": [
    "# Examples\n",
    "\n",
    "vocab = vectorizer.get_feature_names()\n",
    "clinton_train = vectorizer.transform(cand_lines['CLINTON']).toarray()"
   ]
  },
  {
   "cell_type": "code",
   "execution_count": 101,
   "metadata": {
    "collapsed": false
   },
   "outputs": [
    {
     "data": {
      "text/plain": [
       "array([[0, 0, 0, ..., 0, 0, 0],\n",
       "       [0, 0, 0, ..., 0, 0, 0],\n",
       "       [0, 0, 0, ..., 0, 0, 1],\n",
       "       ..., \n",
       "       [0, 0, 0, ..., 0, 0, 0],\n",
       "       [0, 0, 0, ..., 1, 0, 1],\n",
       "       [0, 0, 3, ..., 5, 0, 1]])"
      ]
     },
     "execution_count": 101,
     "metadata": {},
     "output_type": "execute_result"
    }
   ],
   "source": [
    "clinton_train"
   ]
  }
 ],
 "metadata": {
  "kernelspec": {
   "display_name": "Python 2",
   "language": "python",
   "name": "python2"
  },
  "language_info": {
   "codemirror_mode": {
    "name": "ipython",
    "version": 2
   },
   "file_extension": ".py",
   "mimetype": "text/x-python",
   "name": "python",
   "nbconvert_exporter": "python",
   "pygments_lexer": "ipython2",
   "version": "2.7.11"
  }
 },
 "nbformat": 4,
 "nbformat_minor": 0
}
