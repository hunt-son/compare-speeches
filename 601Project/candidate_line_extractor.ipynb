{
 "cells": [
  {
   "cell_type": "code",
   "execution_count": 80,
   "metadata": {
    "collapsed": true
   },
   "outputs": [],
   "source": [
    "import os\n",
    "\n",
    "ROOT_DIR = os.getcwd()\n",
    "DATA_DIR = os.path.join(ROOT_DIR, 'Raw_debates')\n",
    "RESULT_DIR = os.path.join(ROOT_DIR, 'candidate_lines')\n",
    "\n",
    "candidates = {'CLINTON', 'SANDERS', 'TRUMP', 'RUBIO', 'CRUZ'}"
   ]
  },
  {
   "cell_type": "code",
   "execution_count": 81,
   "metadata": {
    "collapsed": true
   },
   "outputs": [],
   "source": [
    "def get_speaker_name(line):\n",
    "    return line[:line.index(':')]\n",
    "\n",
    "def is_new_speaker(line):\n",
    "    if ':' not in line:\n",
    "        return False\n",
    "    name = get_speaker_name(line)\n",
    "    return name.isupper()\n",
    "\n",
    "def write_candidate_lines(candidate_lines):\n",
    "    for cand in candidate_lines:\n",
    "        file_name = '{0}.txt'.format(cand)\n",
    "        file_path = os.path.join(RESULT_DIR, file_name)\n",
    "        with open(file_path, 'wb') as f:\n",
    "            for line in candidate_lines[cand]:\n",
    "                f.write(line)"
   ]
  },
  {
   "cell_type": "code",
   "execution_count": 82,
   "metadata": {
    "collapsed": false
   },
   "outputs": [],
   "source": [
    "speaker = None\n",
    "\n",
    "candidate_lines = {cand: [] for cand in candidates}\n",
    "\n",
    "for file_name in os.listdir(DATA_DIR):\n",
    "    if ('dem' not in file_name) and ('rep' not in file_name):\n",
    "        continue\n",
    "    \n",
    "    file_path = os.path.join(DATA_DIR, file_name)\n",
    "    \n",
    "    with open(file_path, 'rb') as f:\n",
    "        for line in f:\n",
    "            if is_new_speaker(line):\n",
    "                speaker = get_speaker_name(line)\n",
    "            if speaker not in candidates:\n",
    "                continue\n",
    "            candidate_lines[speaker].append(line)"
   ]
  },
  {
   "cell_type": "code",
   "execution_count": 83,
   "metadata": {
    "collapsed": false
   },
   "outputs": [],
   "source": [
    "write_candidate_lines(candidate_lines)"
   ]
  }
 ],
 "metadata": {
  "kernelspec": {
   "display_name": "Python 2",
   "language": "python",
   "name": "python2"
  },
  "language_info": {
   "codemirror_mode": {
    "name": "ipython",
    "version": 2
   },
   "file_extension": ".py",
   "mimetype": "text/x-python",
   "name": "python",
   "nbconvert_exporter": "python",
   "pygments_lexer": "ipython2",
   "version": "2.7.11"
  }
 },
 "nbformat": 4,
 "nbformat_minor": 0
}
